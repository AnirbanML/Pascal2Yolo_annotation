{
 "cells": [
  {
   "cell_type": "code",
   "execution_count": 130,
   "id": "98a1a9ac",
   "metadata": {},
   "outputs": [],
   "source": [
    "from bs4 import BeautifulSoup"
   ]
  },
  {
   "cell_type": "code",
   "execution_count": 131,
   "id": "74ca4cd5",
   "metadata": {},
   "outputs": [
    {
     "data": {
      "text/plain": [
       "<?xml version=\"1.0\" encoding=\"utf-8\"?>\n",
       "<annotation>\n",
       "<folder>images</folder>\n",
       "<filename>maksssksksss1.png</filename>\n",
       "<size>\n",
       "<width>400</width>\n",
       "<height>156</height>\n",
       "<depth>3</depth>\n",
       "</size>\n",
       "<segmented>0</segmented>\n",
       "<object>\n",
       "<name>with_mask</name>\n",
       "<pose>Unspecified</pose>\n",
       "<truncated>0</truncated>\n",
       "<occluded>0</occluded>\n",
       "<difficult>0</difficult>\n",
       "<bndbox>\n",
       "<xmin>321</xmin>\n",
       "<ymin>34</ymin>\n",
       "<xmax>354</xmax>\n",
       "<ymax>69</ymax>\n",
       "</bndbox>\n",
       "</object>\n",
       "<object>\n",
       "<name>with_mask</name>\n",
       "<pose>Unspecified</pose>\n",
       "<truncated>0</truncated>\n",
       "<occluded>0</occluded>\n",
       "<difficult>0</difficult>\n",
       "<bndbox>\n",
       "<xmin>224</xmin>\n",
       "<ymin>38</ymin>\n",
       "<xmax>261</xmax>\n",
       "<ymax>73</ymax>\n",
       "</bndbox>\n",
       "</object>\n",
       "<object>\n",
       "<name>with_mask</name>\n",
       "<pose>Unspecified</pose>\n",
       "<truncated>0</truncated>\n",
       "<occluded>0</occluded>\n",
       "<difficult>0</difficult>\n",
       "<bndbox>\n",
       "<xmin>299</xmin>\n",
       "<ymin>58</ymin>\n",
       "<xmax>315</xmax>\n",
       "<ymax>81</ymax>\n",
       "</bndbox>\n",
       "</object>\n",
       "<object>\n",
       "<name>with_mask</name>\n",
       "<pose>Unspecified</pose>\n",
       "<truncated>0</truncated>\n",
       "<occluded>0</occluded>\n",
       "<difficult>0</difficult>\n",
       "<bndbox>\n",
       "<xmin>143</xmin>\n",
       "<ymin>74</ymin>\n",
       "<xmax>174</xmax>\n",
       "<ymax>115</ymax>\n",
       "</bndbox>\n",
       "</object>\n",
       "<object>\n",
       "<name>with_mask</name>\n",
       "<pose>Unspecified</pose>\n",
       "<truncated>0</truncated>\n",
       "<occluded>0</occluded>\n",
       "<difficult>0</difficult>\n",
       "<bndbox>\n",
       "<xmin>74</xmin>\n",
       "<ymin>69</ymin>\n",
       "<xmax>95</xmax>\n",
       "<ymax>99</ymax>\n",
       "</bndbox>\n",
       "</object>\n",
       "<object>\n",
       "<name>with_mask</name>\n",
       "<pose>Unspecified</pose>\n",
       "<truncated>0</truncated>\n",
       "<occluded>0</occluded>\n",
       "<difficult>0</difficult>\n",
       "<bndbox>\n",
       "<xmin>191</xmin>\n",
       "<ymin>67</ymin>\n",
       "<xmax>221</xmax>\n",
       "<ymax>93</ymax>\n",
       "</bndbox>\n",
       "</object>\n",
       "<object>\n",
       "<name>with_mask</name>\n",
       "<pose>Unspecified</pose>\n",
       "<truncated>0</truncated>\n",
       "<occluded>0</occluded>\n",
       "<difficult>0</difficult>\n",
       "<bndbox>\n",
       "<xmin>21</xmin>\n",
       "<ymin>73</ymin>\n",
       "<xmax>44</xmax>\n",
       "<ymax>93</ymax>\n",
       "</bndbox>\n",
       "</object>\n",
       "<object>\n",
       "<name>with_mask</name>\n",
       "<pose>Unspecified</pose>\n",
       "<truncated>0</truncated>\n",
       "<occluded>0</occluded>\n",
       "<difficult>0</difficult>\n",
       "<bndbox>\n",
       "<xmin>369</xmin>\n",
       "<ymin>70</ymin>\n",
       "<xmax>398</xmax>\n",
       "<ymax>99</ymax>\n",
       "</bndbox>\n",
       "</object>\n",
       "<object>\n",
       "<name>without_mask</name>\n",
       "<pose>Unspecified</pose>\n",
       "<truncated>0</truncated>\n",
       "<occluded>0</occluded>\n",
       "<difficult>0</difficult>\n",
       "<bndbox>\n",
       "<xmin>83</xmin>\n",
       "<ymin>56</ymin>\n",
       "<xmax>111</xmax>\n",
       "<ymax>89</ymax>\n",
       "</bndbox>\n",
       "</object>\n",
       "</annotation>"
      ]
     },
     "execution_count": 131,
     "metadata": {},
     "output_type": "execute_result"
    }
   ],
   "source": [
    "with open('./annotations/maksssksksss1.xml', 'r') as f:\n",
    "    data = f.read()\n",
    "\n",
    "Bs_data = BeautifulSoup(data, \"xml\")\n",
    "Bs_data"
   ]
  },
  {
   "cell_type": "code",
   "execution_count": 132,
   "id": "d685db84",
   "metadata": {},
   "outputs": [
    {
     "data": {
      "text/plain": [
       "'maksssksksss1'"
      ]
     },
     "execution_count": 132,
     "metadata": {},
     "output_type": "execute_result"
    }
   ],
   "source": [
    "filename = Bs_data.find_all('filename')\n",
    "filename = filename[0].get_text()\n",
    "filename = filename.split('.')[0]\n",
    "filename"
   ]
  },
  {
   "cell_type": "code",
   "execution_count": 133,
   "id": "38cdbf0d",
   "metadata": {},
   "outputs": [
    {
     "data": {
      "text/plain": [
       "['without_mask', 'with_mask']"
      ]
     },
     "execution_count": 133,
     "metadata": {},
     "output_type": "execute_result"
    }
   ],
   "source": [
    "with open('./classes.txt', 'r') as f:\n",
    "    classes = f.read().splitlines()\n",
    "classes"
   ]
  },
  {
   "cell_type": "code",
   "execution_count": 134,
   "id": "00af4a6a",
   "metadata": {},
   "outputs": [
    {
     "data": {
      "text/plain": [
       "400"
      ]
     },
     "execution_count": 134,
     "metadata": {},
     "output_type": "execute_result"
    }
   ],
   "source": [
    "width = Bs_data.find_all('width')\n",
    "width = int(width[0].get_text())\n",
    "width"
   ]
  },
  {
   "cell_type": "code",
   "execution_count": 135,
   "id": "30955d52",
   "metadata": {},
   "outputs": [
    {
     "data": {
      "text/plain": [
       "156"
      ]
     },
     "execution_count": 135,
     "metadata": {},
     "output_type": "execute_result"
    }
   ],
   "source": [
    "height = Bs_data.find_all('height')\n",
    "height = int(height[0].get_text())\n",
    "height"
   ]
  },
  {
   "cell_type": "code",
   "execution_count": 136,
   "id": "30108e03",
   "metadata": {},
   "outputs": [
    {
     "data": {
      "text/plain": [
       "[<name>with_mask</name>,\n",
       " <name>with_mask</name>,\n",
       " <name>with_mask</name>,\n",
       " <name>with_mask</name>,\n",
       " <name>with_mask</name>,\n",
       " <name>with_mask</name>,\n",
       " <name>with_mask</name>,\n",
       " <name>with_mask</name>,\n",
       " <name>without_mask</name>]"
      ]
     },
     "execution_count": 136,
     "metadata": {},
     "output_type": "execute_result"
    }
   ],
   "source": [
    "tags = Bs_data.find_all('name')\n",
    "tags"
   ]
  },
  {
   "cell_type": "code",
   "execution_count": 137,
   "id": "534d6aa8",
   "metadata": {},
   "outputs": [
    {
     "data": {
      "text/plain": [
       "[<xmin>321</xmin>,\n",
       " <xmin>224</xmin>,\n",
       " <xmin>299</xmin>,\n",
       " <xmin>143</xmin>,\n",
       " <xmin>74</xmin>,\n",
       " <xmin>191</xmin>,\n",
       " <xmin>21</xmin>,\n",
       " <xmin>369</xmin>,\n",
       " <xmin>83</xmin>]"
      ]
     },
     "execution_count": 137,
     "metadata": {},
     "output_type": "execute_result"
    }
   ],
   "source": [
    "x_mins = Bs_data.find_all('xmin')\n",
    "x_mins"
   ]
  },
  {
   "cell_type": "code",
   "execution_count": 138,
   "id": "a160da22",
   "metadata": {},
   "outputs": [
    {
     "data": {
      "text/plain": [
       "[<xmax>354</xmax>,\n",
       " <xmax>261</xmax>,\n",
       " <xmax>315</xmax>,\n",
       " <xmax>174</xmax>,\n",
       " <xmax>95</xmax>,\n",
       " <xmax>221</xmax>,\n",
       " <xmax>44</xmax>,\n",
       " <xmax>398</xmax>,\n",
       " <xmax>111</xmax>]"
      ]
     },
     "execution_count": 138,
     "metadata": {},
     "output_type": "execute_result"
    }
   ],
   "source": [
    "x_maxs = Bs_data.find_all('xmax')\n",
    "x_maxs"
   ]
  },
  {
   "cell_type": "code",
   "execution_count": 139,
   "id": "e109af2a",
   "metadata": {},
   "outputs": [
    {
     "data": {
      "text/plain": [
       "[<ymin>34</ymin>,\n",
       " <ymin>38</ymin>,\n",
       " <ymin>58</ymin>,\n",
       " <ymin>74</ymin>,\n",
       " <ymin>69</ymin>,\n",
       " <ymin>67</ymin>,\n",
       " <ymin>73</ymin>,\n",
       " <ymin>70</ymin>,\n",
       " <ymin>56</ymin>]"
      ]
     },
     "execution_count": 139,
     "metadata": {},
     "output_type": "execute_result"
    }
   ],
   "source": [
    "y_mins = Bs_data.find_all('ymin')\n",
    "y_mins"
   ]
  },
  {
   "cell_type": "code",
   "execution_count": 140,
   "id": "3ef2fa89",
   "metadata": {},
   "outputs": [
    {
     "data": {
      "text/plain": [
       "[<ymax>69</ymax>,\n",
       " <ymax>73</ymax>,\n",
       " <ymax>81</ymax>,\n",
       " <ymax>115</ymax>,\n",
       " <ymax>99</ymax>,\n",
       " <ymax>93</ymax>,\n",
       " <ymax>93</ymax>,\n",
       " <ymax>99</ymax>,\n",
       " <ymax>89</ymax>]"
      ]
     },
     "execution_count": 140,
     "metadata": {},
     "output_type": "execute_result"
    }
   ],
   "source": [
    "y_maxs = Bs_data.find_all('ymax')\n",
    "y_maxs"
   ]
  },
  {
   "cell_type": "code",
   "execution_count": 142,
   "id": "0a0c0f7b",
   "metadata": {},
   "outputs": [],
   "source": [
    "yolo = ''\n",
    "\n",
    "for tag, xmin, xmax, ymin, ymax in zip(tags, x_mins, x_maxs, y_mins, y_maxs):\n",
    "    \n",
    "    if tag.get_text() in classes:\n",
    "        category = classes.index(tag.get_text())\n",
    "    \n",
    "    xmin = int(xmin.get_text())\n",
    "    xmax = int(xmax.get_text())\n",
    "    ymin = int(ymin.get_text())\n",
    "    ymax = int(ymax.get_text())\n",
    "    \n",
    "    x_coord = (xmin + xmax) / 2 / width\n",
    "    y_coord = (ymin + ymax) / 2 / height\n",
    "    shape_width = (xmax - xmin) / width\n",
    "    shape_height = (ymax - ymin) / height\n",
    "    \n",
    "    yolo = yolo + str(category) +' '+str(format(x_coord,'.6f')) +' '+str(format(y_coord,'.6f'))+' '+str(format(shape_width,'.6f'))+' '+str(format(shape_height,'.6f'))+'\\n'\n",
    "\n",
    "f = open(filename+'.txt', \"a\")\n",
    "f.write(yolo)\n",
    "f.close()"
   ]
  },
  {
   "cell_type": "code",
   "execution_count": 119,
   "id": "373d1028",
   "metadata": {},
   "outputs": [
    {
     "name": "stdout",
     "output_type": "stream",
     "text": [
      "without_mask\n",
      "with_mask\n",
      "without_mask\n"
     ]
    }
   ],
   "source": [
    "for i in bs:\n",
    "    print(i.get_text())"
   ]
  },
  {
   "cell_type": "code",
   "execution_count": null,
   "id": "4fd3f74a",
   "metadata": {},
   "outputs": [],
   "source": []
  }
 ],
 "metadata": {
  "kernelspec": {
   "display_name": "Python 3",
   "language": "python",
   "name": "python3"
  },
  "language_info": {
   "codemirror_mode": {
    "name": "ipython",
    "version": 3
   },
   "file_extension": ".py",
   "mimetype": "text/x-python",
   "name": "python",
   "nbconvert_exporter": "python",
   "pygments_lexer": "ipython3",
   "version": "3.8.8"
  }
 },
 "nbformat": 4,
 "nbformat_minor": 5
}
